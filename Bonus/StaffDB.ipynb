{
 "cells": [
  {
   "cell_type": "markdown",
   "id": "89cb8e15",
   "metadata": {},
   "source": [
    "# StaffDB Data Review"
   ]
  },
  {
   "cell_type": "code",
   "execution_count": 1,
   "id": "984f96f9",
   "metadata": {},
   "outputs": [],
   "source": [
    "import pandas as pd\n",
    "from sqlalchemy import create_engine\n",
    "from config import pg_pwd\n",
    "import psycopg2 \n",
    "import numpy as np"
   ]
  },
  {
   "cell_type": "code",
   "execution_count": 2,
   "id": "e591bb0b",
   "metadata": {},
   "outputs": [],
   "source": [
    "#db initializations\n",
    "engine = create_engine(f'postgresql://{pg_pwd}/StaffDB')\n",
    "connection = engine.connect()"
   ]
  },
  {
   "cell_type": "code",
   "execution_count": 3,
   "id": "b1cb65bc",
   "metadata": {},
   "outputs": [],
   "source": [
    "#dataframes from db queries\n",
    "employees_df = pd.read_sql(\"select emp_no, emp_title_id title_id from employees\", connection)\n",
    "salaries_df = pd.read_sql(\"select emp_no, salary from salaries\", connection)\n",
    "titles_df = pd.read_sql(\"select title_id, title from titles\", connection)"
   ]
  },
  {
   "cell_type": "code",
   "execution_count": 4,
   "id": "cd912856",
   "metadata": {},
   "outputs": [],
   "source": [
    "#join tables on common column and type\n",
    "dtype = dict(emp_no=int)\n",
    "emp_salary_df = pd.merge(employees_df.astype(dtype), salaries_df.astype(dtype), on='emp_no', how='inner')\n",
    "emp_salary_df = pd.merge(emp_salary_df, titles_df, on=\"title_id\", how='inner')"
   ]
  },
  {
   "cell_type": "markdown",
   "id": "6d68fac7",
   "metadata": {},
   "source": [
    "## View Salary Distribution"
   ]
  },
  {
   "cell_type": "code",
   "execution_count": 5,
   "id": "23c2c8ff",
   "metadata": {},
   "outputs": [
    {
     "data": {
      "text/plain": [
       "array([[<AxesSubplot:title={'center':'salary'}>]], dtype=object)"
      ]
     },
     "execution_count": 5,
     "metadata": {},
     "output_type": "execute_result"
    },
    {
     "data": {
      "image/png": "[encoded data removed]",
      "text/plain": [
       "<Figure size 432x288 with 1 Axes>"
      ]
     },
     "metadata": {
      "needs_background": "light"
     },
     "output_type": "display_data"
    }
   ],
   "source": [
    "#find range and graph histogram\n",
    "emp_max = emp_salary_df['salary'].max()\n",
    "emp_min = emp_salary_df['salary'].min()\n",
    "\n",
    "emp_salary_df.hist(column=\"salary\", bins=np.arange(emp_min, emp_max, 1000, dtype=int))"
   ]
  },
  {
   "cell_type": "markdown",
   "id": "b6d950d7",
   "metadata": {},
   "source": [
    "Viewing increments of 1000, the histogram shows a large concentration of salaries between 40-41k."
   ]
  },
  {
   "cell_type": "code",
   "execution_count": 6,
   "id": "84f6c3e8",
   "metadata": {},
   "outputs": [
    {
     "data": {
      "text/plain": [
       "array([[<AxesSubplot:title={'center':'salary'}>]], dtype=object)"
      ]
     },
     "execution_count": 6,
     "metadata": {},
     "output_type": "execute_result"
    },
    {
     "data": {
      "image/png": "[encoded data removed]",
      "text/plain": [
       "<Figure size 432x288 with 1 Axes>"
      ]
     },
     "metadata": {
      "needs_background": "light"
     },
     "output_type": "display_data"
    }
   ],
   "source": [
    "#narrow in on standout salaries\n",
    "emp_salary_df.hist(column=\"salary\", bins=np.arange(40000, 41000, 50))"
   ]
  },
  {
   "cell_type": "markdown",
   "id": "2cf5dc8b",
   "metadata": {},
   "source": [
    "Narrowing in with increment of 50, the histogram shows the large concentration of salaries between 40000-40050."
   ]
  },
  {
   "cell_type": "code",
   "execution_count": 7,
   "id": "cc2c1b0a",
   "metadata": {},
   "outputs": [
    {
     "data": {
      "text/plain": [
       "array([[<AxesSubplot:title={'center':'salary'}>]], dtype=object)"
      ]
     },
     "execution_count": 7,
     "metadata": {},
     "output_type": "execute_result"
    },
    {
     "data": {
      "image/png": "[encoded data removed]",
      "text/plain": [
       "<Figure size 432x288 with 1 Axes>"
      ]
     },
     "metadata": {
      "needs_background": "light"
     },
     "output_type": "display_data"
    }
   ],
   "source": [
    "#narrow in on standout salaries\n",
    "emp_salary_df.hist(column=\"salary\", bins=np.arange(40000,40050,1, dtype=int))"
   ]
  },
  {
   "cell_type": "markdown",
   "id": "505d31f5",
   "metadata": {},
   "source": [
    "Narrowing in with increment of 1, the histogram shows the large concentration of salaries is at 40000 which may indicate that the dataset is fake."
   ]
  },
  {
   "cell_type": "markdown",
   "id": "d3891157",
   "metadata": {},
   "source": [
    "## Test salary distribution excluding 40000 salary"
   ]
  },
  {
   "cell_type": "code",
   "execution_count": 8,
   "id": "f46474ae",
   "metadata": {},
   "outputs": [
    {
     "data": {
      "text/plain": [
       "array([[<AxesSubplot:title={'center':'salary'}>]], dtype=object)"
      ]
     },
     "execution_count": 8,
     "metadata": {},
     "output_type": "execute_result"
    },
    {
     "data": {
      "image/png": "[encoded data removed]",
      "text/plain": [
       "<Figure size 432x288 with 1 Axes>"
      ]
     },
     "metadata": {
      "needs_background": "light"
     },
     "output_type": "display_data"
    }
   ],
   "source": [
    "#create test dataframe, find range, and graph histogram\n",
    "emp_testsalary_df = emp_salary_df[emp_salary_df[\"salary\"] != 40000]\n",
    "\n",
    "emp_testmax = emp_testsalary_df['salary'].max()\n",
    "emp_testmin = emp_testsalary_df['salary'].min()\n",
    "\n",
    "emp_testsalary_df.hist(column=\"salary\", bins=np.arange(emp_testmin, emp_testmax, 1000, dtype=int))"
   ]
  },
  {
   "cell_type": "markdown",
   "id": "68847fa2",
   "metadata": {},
   "source": [
    "The histogram of the salary data excluding the 40000 salaries has a natural appears and may furthur indicate that the dataset is fake."
   ]
  },
  {
   "cell_type": "markdown",
   "id": "492be52d",
   "metadata": {},
   "source": [
    "## Average Salary by Title"
   ]
  },
  {
   "cell_type": "code",
   "execution_count": 9,
   "id": "4ac09761",
   "metadata": {},
   "outputs": [],
   "source": [
    "emp_salary_df = emp_salary_df[['salary','title']]\n",
    "\n",
    "average_titles_df = emp_salary_df.groupby(['title']).aggregate(['mean'])[\"salary\"].reset_index().round(decimals=2)\n",
    "average_titles_df.columns=['Title','Average']\n",
    "average_titles_df.sort_values(by = 'Average', inplace=True)"
   ]
  },
  {
   "cell_type": "code",
   "execution_count": 13,
   "id": "2a18eeb5",
   "metadata": {},
   "outputs": [
    {
     "data": {
      "text/plain": [
       "Text(0.5, 1.0, 'Average Salaries by Title')"
      ]
     },
     "execution_count": 13,
     "metadata": {},
     "output_type": "execute_result"
    },
    {
     "data": {
      "image/png": "[encoded data removed]",
      "text/plain": [
       "<Figure size 648x288 with 1 Axes>"
      ]
     },
     "metadata": {
      "needs_background": "light"
     },
     "output_type": "display_data"
    }
   ],
   "source": [
    "# plot bars using Pandas.\n",
    "ax = average_titles_df.plot(kind='barh', figsize=(9,4))\n",
    "ax.set_title(\"Average Salaries by Title\")\n",
    "ax.set_xlabel(\"Average Salaries USD\")\n",
    "ax.set_ylabel(\"Title\")\n",
    "ax.set_yticklabels(average_titles_df['Title'])"
   ]
  },
  {
   "cell_type": "code",
   "execution_count": null,
   "id": "519f51d6",
   "metadata": {},
   "outputs": [],
   "source": []
  }
 ],
 "metadata": {
  "kernelspec": {
   "display_name": "Python 3 (ipykernel)",
   "language": "python",
   "name": "python3"
  },
  "language_info": {
   "codemirror_mode": {
    "name": "ipython",
    "version": 3
   },
   "file_extension": ".py",
   "mimetype": "text/x-python",
   "name": "python",
   "nbconvert_exporter": "python",
   "pygments_lexer": "ipython3",
   "version": "3.9.12"
  }
 },
 "nbformat": 4,
 "nbformat_minor": 5
}
